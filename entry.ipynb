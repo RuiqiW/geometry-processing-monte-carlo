{
 "cells": [
  {
   "cell_type": "markdown",
   "metadata": {},
   "source": [
    "## Monte Carlo Geometry Processing"
   ]
  },
  {
   "cell_type": "markdown",
   "metadata": {},
   "source": [
    "Monte Carlo PDE estimator computes the solution to a partial differential equation at some given point with the Walk on Spheres(WoS) algorithm.\n"
   ]
  },
  {
   "cell_type": "markdown",
   "metadata": {},
   "source": [
    "### Laplacian Equation"
   ]
  },
  {
   "cell_type": "markdown",
   "metadata": {},
   "source": [
    "\n",
    "For a Laplacian equation given by \n",
    "$$ \\Delta u = 0 \\ \\ \\ on \\ \\ \\Omega$$\n",
    "$$ u = g \\ \\ \\ on \\ \\ \\partial\\Omega$$\n",
    "The WoS algorithm is done iteratively, for an iteration k:\n",
    "1. At $x_k$, find the largest sphere $S(x_k)$ centered at $x_k$ inscribed in the mesh\n",
    "2. Pick a random point $x_{k+1}$ on $S(x_k)$\n",
    "\n",
    "Repeat step 1 and 2 until $x_k$ is close to the mesh, i.e. $d(x_k, V, F) < \\epsilon$  \n",
    "Give an estimate for $u(x_0)$ as $\\hat{u}(x_0)$ = $g(\\bar{x_k})$, where $\\bar{x_k}$ is the closest point on mesh to $x_k$\n",
    "\n",
    "In libigl, this estimator can be used as follows:"
   ]
  },
  {
   "cell_type": "raw",
   "metadata": {},
   "source": [
    "Eigen::MatrixXd U;\n",
    "walk_on_spheres_3D(V, F, B, P, U);"
   ]
  },
  {
   "cell_type": "markdown",
   "metadata": {},
   "source": [
    "Where $B$ is a function $\\mathbb{R}^3 \\rightarrow \\mathbb{R}$ that can be evaluated on points on mesh. $P$ is a set of points (not necessarily part of any mesh)."
   ]
  },
  {
   "cell_type": "code",
   "execution_count": 2,
   "metadata": {},
   "outputs": [],
   "source": [
    "# bunny_laplacian, cactus_laplacian"
   ]
  },
  {
   "cell_type": "markdown",
   "metadata": {},
   "source": [
    "Figure 1. solved laplacian with the boundary condition $g(x) = \\|x\\|_2$ "
   ]
  },
  {
   "cell_type": "markdown",
   "metadata": {},
   "source": [
    "### Poisson Equation"
   ]
  },
  {
   "cell_type": "markdown",
   "metadata": {},
   "source": [
    "For a Poisson equation given by\n",
    "$$\\Delta u = f \\ \\ \\ on \\ \\ \\Omega$$\n",
    "$$u = g \\ \\ \\ on\\ \\  \\partial\\Omega$$"
   ]
  },
  {
   "cell_type": "markdown",
   "metadata": {},
   "source": [
    "The WoS algorithm is similar to the one for Laplacian, except for an iteration k, it has an extra step:\n",
    "3. Pick a random point $y_k$ in the largest ball $B(x_k)$ centered at $x_k$ inscribed in the mesh\n",
    "\n",
    "And the estimate for $u(x_0)$ is $\\hat{u}(x_0) = g(\\bar{x_0}) + \\Sigma_{i=1}^k |B(x_i)|f(y_i)G(x_i, y_i)$\n",
    "\n",
    "In libigl, this estimator can be used as follows:"
   ]
  },
  {
   "cell_type": "code",
   "execution_count": null,
   "metadata": {},
   "outputs": [],
   "source": []
  },
  {
   "cell_type": "markdown",
   "metadata": {},
   "source": [
    "Where $f$ is ..."
   ]
  },
  {
   "cell_type": "markdown",
   "metadata": {},
   "source": [
    "#### Importance Sampling"
   ]
  },
  {
   "cell_type": "markdown",
   "metadata": {},
   "source": [
    "For a specific type of source function $f_z = c \\delta_z$, where c is a constant and $\\delta_z$ is the Dirac delta centered at a point $z\\in \\Omega$  \n",
    "TODO: paper section 4.2.2"
   ]
  },
  {
   "cell_type": "code",
   "execution_count": null,
   "metadata": {},
   "outputs": [],
   "source": [
    "# without importance, with importance"
   ]
  },
  {
   "cell_type": "markdown",
   "metadata": {},
   "source": [
    "Figure 2. solved poisson with ....."
   ]
  }
 ],
 "metadata": {
  "kernelspec": {
   "display_name": "Python 3",
   "language": "python",
   "name": "python3"
  },
  "language_info": {
   "codemirror_mode": {
    "name": "ipython",
    "version": 3
   },
   "file_extension": ".py",
   "mimetype": "text/x-python",
   "name": "python",
   "nbconvert_exporter": "python",
   "pygments_lexer": "ipython3",
   "version": "3.8.5"
  }
 },
 "nbformat": 4,
 "nbformat_minor": 4
}
