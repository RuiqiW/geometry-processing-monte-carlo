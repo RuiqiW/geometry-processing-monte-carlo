{
 "cells": [
  {
   "cell_type": "markdown",
   "metadata": {},
   "source": [
    "## Monte Carlo Geometry Processing"
   ]
  },
  {
   "cell_type": "markdown",
   "metadata": {},
   "source": [
    "Monte Carlo PDE estimator computes the solution to a partial differential equation at some given point with the Walk on Spheres(WoS) algorithm.\n"
   ]
  },
  {
   "cell_type": "markdown",
   "metadata": {},
   "source": [
    "### Laplacian Equation"
   ]
  },
  {
   "cell_type": "markdown",
   "metadata": {},
   "source": [
    "\n",
    "For a Laplacian equation given by \n",
    "$$ \\Delta u = 0 \\ \\ \\ on \\ \\ \\Omega$$\n",
    "$$ u = g \\ \\ \\ on \\ \\ \\partial\\Omega$$\n",
    "The WoS algorithm is done iteratively, for an iteration k:\n",
    "1. At $x_k$, find the largest sphere $S(x_k)$ centered at $x_k$ inscribed in the mesh\n",
    "2. Pick a random point $x_{k+1}$ on $S(x_k)$\n",
    "\n",
    "Repeat step 1 and 2 until $x_k$ is close to the mesh, i.e. $d(x_k, V, F) < \\epsilon$  \n",
    "Give an estimate for $u(x_0)$ as $\\hat{u}(x_0)$ = $g(\\bar{x_k})$, where $\\bar{x_k}$ is the closest point on mesh to $x_k$\n",
    "\n",
    "In libigl, this estimator can be used as follows:"
   ]
  },
  {
   "cell_type": "raw",
   "metadata": {},
   "source": [
    "Eigen::MatrixXd U;\n",
    "walk_on_spheres_3D(V, F, B, P, U);"
   ]
  },
  {
   "cell_type": "markdown",
   "metadata": {},
   "source": [
    "Where $B$ is a function $\\mathbb{R}^3 \\rightarrow \\mathbb{R}$ that can be evaluated on points on mesh. $P$ is a set of Query points (not necessarily part of any mesh)."
   ]
  },
  {
   "cell_type": "markdown",
   "metadata": {},
   "source": [
    "<table><tr>\n",
    "<td> <img src=\"images/bunny_laplacian.png\" style=\"width: 500px;\"/> </td>\n",
    "<td> <img src=\"images/cactus_laplacian.png\" style=\"width: 500px;\"/> </td>\n",
    "</tr></table>"
   ]
  },
  {
   "cell_type": "markdown",
   "metadata": {},
   "source": [
    "Figure 1. Solved laplacian with the boundary condition $g(x) = \\|x\\|_2$ "
   ]
  },
  {
   "cell_type": "markdown",
   "metadata": {},
   "source": [
    "### Poisson Equation"
   ]
  },
  {
   "cell_type": "markdown",
   "metadata": {},
   "source": [
    "For a Poisson equation given by\n",
    "$$\\Delta u = f \\ \\ \\ on \\ \\ \\Omega$$\n",
    "$$u = g \\ \\ \\ on\\ \\  \\partial\\Omega$$"
   ]
  },
  {
   "cell_type": "markdown",
   "metadata": {},
   "source": [
    "The WoS algorithm is similar to the one for Laplacian, except for an iteration k, it has an extra step:\n",
    "3. Pick a random point $y_k$ in the largest ball $B(x_k)$ centered at $x_k$ inscribed in the mesh\n",
    "\n",
    "And the estimate for $u(x_0)$ is $\\hat{u}(x_0) = g(\\bar{x_k}) + \\Sigma_{i=1}^k |B(x_i)|f(y_i)G(x_i, y_i)$\n",
    "\n",
    "In libigl, this estimator can be used as follows:"
   ]
  },
  {
   "cell_type": "raw",
   "metadata": {},
   "source": [
    "Eigen::MatrixXd U;\n",
    "walk_on_spheres_poisson(V, F, B, f, P, U);"
   ]
  },
  {
   "cell_type": "markdown",
   "metadata": {},
   "source": [
    "Where $f:\\mathbb{R}^3 \\rightarrow \\mathbb{R}$ is a source function that can be specified by the user"
   ]
  },
  {
   "cell_type": "markdown",
   "metadata": {},
   "source": [
    "#### Importance Sampling"
   ]
  },
  {
   "cell_type": "markdown",
   "metadata": {},
   "source": [
    "For a specific type of source function $f_z = c \\delta_z$, where c is a constant and \n",
    "$\\delta_z$ is the Dirac delta centered at a point $z\\in \\Omega$, we can instead sample $y_k$ in the following way. \n",
    "\n",
    "3*. Pick a random point $y_k$ in the largest ball $B(x_k)$ centered at $x_k$ inscribed in the mesh, and if $y_k$ is close enough to the source point $z$ ($|y_k - z| < r$), use the following term for the contribution\n",
    "\n",
    "$$|B(x_k)|\\frac{f(z)G(x,z)}{p(z)} = |B(x_k)|\\frac{c \\delta_z G(x, z)}{\\delta_z} = |B(x_k)|c G(x, z)$$\n",
    "\n",
    "Otherwise use the normal poisson contribution $|B(x_k)|f(y_k)G(x_k, y_k)$.\n",
    "\n",
    "Importance sampling can be toggled with the double c and the use_importance boolean flag\n",
    "TODO: paper section 4.2.2"
   ]
  },
  {
   "cell_type": "raw",
   "metadata": {},
   "source": [
    "walk_on_spheres_poisson(V, F, B, f, P, U, z, c, true);"
   ]
  },
  {
   "cell_type": "markdown",
   "metadata": {},
   "source": [
    "<table><tr>\n",
    "<td> <img src=\"images/with_importance.png\" style=\"width: 500px;\"/> </td>\n",
    "<td> <img src=\"images/without_importance.png\" style=\"width: 500px;\"/> </td>\n",
    "</tr></table>"
   ]
  },
  {
   "cell_type": "markdown",
   "metadata": {},
   "source": [
    "Figure 2. Without importance sampling and \n",
    "with importance sampling using parameters c = 10000, z = (0.5, 0.5, 0.5) "
   ]
  },
  {
   "cell_type": "markdown",
   "metadata": {},
   "source": [
    "#### Screened Poisson Equation\n",
    "\n",
    "\n"
   ]
  },
  {
   "cell_type": "markdown",
   "metadata": {},
   "source": [
    "A variant of the Poisson equation introduces a linear $u$ term\n",
    "$$\\begin{align} \\Delta u - cu &= f \\ \\ \\ on \\ \\ \\Omega \\\\ u &= g \\ \\ \\ on\\ \\  \\partial\\Omega \\end{align}$$\n",
    "which can be solved using similar methods to the original poisson equation except the contribution term is multiplied by a factor of \n",
    "$$\\frac{R \\sqrt{c}}{\\sinh(R \\sqrt{c}}$$"
   ]
  },
  {
   "cell_type": "raw",
   "metadata": {},
   "source": [
    "walk_on_spheres_screened_poisson(V, F, B, f, P, U);"
   ]
  },
  {
   "cell_type": "markdown",
   "metadata": {},
   "source": [
    "Similarly, importance sampling can be toggled with"
   ]
  },
  {
   "cell_type": "raw",
   "metadata": {},
   "source": [
    "walk_on_spheres_screened_poisson(V, F, B, f, P, U, z, c, true);"
   ]
  },
  {
   "cell_type": "markdown",
   "metadata": {},
   "source": [
    "### Biharmonic Equation"
   ]
  },
  {
   "cell_type": "markdown",
   "metadata": {},
   "source": [
    "The biharmonic equation given by\n",
    "$$\\begin{align} \\Delta^2 u &= 0 \\ \\ \\ on \\ \\ \\Omega \\\\ u &= g \\ \\ \\ on\\ \\  \\partial\\Omega \\\\ \\Delta u &= h \\ \\ \\ on\\ \\  \\partial\\Omega \\end{align}$$ \n",
    "\n",
    "The equation be simplified into a system of pdes using the substitution $v := \\Delta u$ \n",
    "\n",
    "$$\\begin{align} \\Delta^2 u &=v \\ \\ \\ on \\ \\ \\Omega \\\\ \\Delta v &= 0 \\ \\ \\ on\\ \\  \\partial\\Omega \\\\ \\Delta u &= g \\ \\ \\ on\\ \\  \\partial\\Omega \\\\ \\Delta v &= h \\ \\ \\ on\\ \\  \\partial\\Omega \\end{align}$$\n",
    "\n",
    "\n",
    "The previous methods can be used to solve this equation, and \n",
    "\n",
    "The method is used as follows"
   ]
  },
  {
   "cell_type": "raw",
   "metadata": {},
   "source": [
    "walk_on_spheres_biharmonic(V, F, B, h, P, U);"
   ]
  },
  {
   "cell_type": "markdown",
   "metadata": {},
   "source": [
    "where $B, h: \\mathbb{R}^3 \\rightarrow \\mathbb{R}$ are boundary condition functions."
   ]
  }
 ],
 "metadata": {
  "kernelspec": {
   "display_name": "Python 3",
   "language": "python",
   "name": "python3"
  },
  "language_info": {
   "codemirror_mode": {
    "name": "ipython",
    "version": 3
   },
   "file_extension": ".py",
   "mimetype": "text/x-python",
   "name": "python",
   "nbconvert_exporter": "python",
   "pygments_lexer": "ipython3",
   "version": "3.7.4"
  }
 },
 "nbformat": 4,
 "nbformat_minor": 4
}
